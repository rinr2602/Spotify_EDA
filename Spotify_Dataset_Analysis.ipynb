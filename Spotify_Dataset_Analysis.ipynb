{
 "cells": [
  {
   "cell_type": "markdown",
   "id": "4415fb87",
   "metadata": {},
   "source": [
    "## Spotify Dataset Analysis\n",
    "\n",
    "### This dataset was taken from Kaggle. It is a comprehensive collection of Spotify tracks across various genres. We are going to be perfomring an Exploratory Data Analysis on this dataset."
   ]
  },
  {
   "cell_type": "code",
   "execution_count": 1,
   "id": "3502f2d0",
   "metadata": {},
   "outputs": [],
   "source": [
    "# import numpy\n",
    "import numpy as np\n",
    "\n",
    "\n",
    "# import pandas\n",
    "import pandas as pd\n",
    "\n",
    "# import matplotlib\n",
    "import matplotlib.pyplot as plt\n",
    "\n",
    "# import seaborn\n",
    "import seaborn as sns\n",
    "\n",
    "# to suppress warnings\n",
    "import warnings\n",
    "warnings.filterwarnings(\"ignore\")\n",
    "\n",
    "# display all columns of the dataframe\n",
    "pd.options.display.max_columns = None\n",
    "\n",
    "# display all rows of the dataframe\n",
    "pd.options.display.max_rows = None"
   ]
  },
  {
   "cell_type": "code",
   "execution_count": 36,
   "id": "ec95bcf9",
   "metadata": {},
   "outputs": [
    {
     "data": {
      "text/html": [
       "<div>\n",
       "<style scoped>\n",
       "    .dataframe tbody tr th:only-of-type {\n",
       "        vertical-align: middle;\n",
       "    }\n",
       "\n",
       "    .dataframe tbody tr th {\n",
       "        vertical-align: top;\n",
       "    }\n",
       "\n",
       "    .dataframe thead th {\n",
       "        text-align: right;\n",
       "    }\n",
       "</style>\n",
       "<table border=\"1\" class=\"dataframe\">\n",
       "  <thead>\n",
       "    <tr style=\"text-align: right;\">\n",
       "      <th></th>\n",
       "      <th>id</th>\n",
       "      <th>name</th>\n",
       "      <th>genre</th>\n",
       "      <th>artists</th>\n",
       "      <th>album</th>\n",
       "      <th>popularity</th>\n",
       "      <th>duration_ms</th>\n",
       "      <th>explicit</th>\n",
       "    </tr>\n",
       "  </thead>\n",
       "  <tbody>\n",
       "    <tr>\n",
       "      <th>0</th>\n",
       "      <td>7kr3xZk4yb3YSZ4VFtg2Qt</td>\n",
       "      <td>Acoustic</td>\n",
       "      <td>acoustic</td>\n",
       "      <td>Billy Raffoul</td>\n",
       "      <td>1975</td>\n",
       "      <td>58</td>\n",
       "      <td>172199</td>\n",
       "      <td>False</td>\n",
       "    </tr>\n",
       "    <tr>\n",
       "      <th>1</th>\n",
       "      <td>1kJygfS4eoVziBBI93MSYp</td>\n",
       "      <td>Acoustic</td>\n",
       "      <td>acoustic</td>\n",
       "      <td>Billy Raffoul</td>\n",
       "      <td>A Few More Hours at YYZ</td>\n",
       "      <td>57</td>\n",
       "      <td>172202</td>\n",
       "      <td>False</td>\n",
       "    </tr>\n",
       "    <tr>\n",
       "      <th>2</th>\n",
       "      <td>6lynns69p4zTCRxmmiSY1x</td>\n",
       "      <td>Here Comes the Sun - Acoustic</td>\n",
       "      <td>acoustic</td>\n",
       "      <td>Molly Hocking, Bailey Rushlow</td>\n",
       "      <td>Here Comes the Sun (Acoustic)</td>\n",
       "      <td>42</td>\n",
       "      <td>144786</td>\n",
       "      <td>False</td>\n",
       "    </tr>\n",
       "    <tr>\n",
       "      <th>3</th>\n",
       "      <td>1RC9slv335IfLce5vt9KTW</td>\n",
       "      <td>Acoustic #3</td>\n",
       "      <td>acoustic</td>\n",
       "      <td>The Goo Goo Dolls</td>\n",
       "      <td>Dizzy up the Girl</td>\n",
       "      <td>46</td>\n",
       "      <td>116573</td>\n",
       "      <td>False</td>\n",
       "    </tr>\n",
       "    <tr>\n",
       "      <th>4</th>\n",
       "      <td>5o9L8xBuILoVjLECSBi7Vo</td>\n",
       "      <td>My Love Mine All Mine - Acoustic Instrumental</td>\n",
       "      <td>acoustic</td>\n",
       "      <td>Guus Dielissen, Casper Esmann</td>\n",
       "      <td>My Love Mine All Mine (Acoustic Instrumental)</td>\n",
       "      <td>33</td>\n",
       "      <td>133922</td>\n",
       "      <td>False</td>\n",
       "    </tr>\n",
       "  </tbody>\n",
       "</table>\n",
       "</div>"
      ],
      "text/plain": [
       "                       id                                           name  \\\n",
       "0  7kr3xZk4yb3YSZ4VFtg2Qt                                       Acoustic   \n",
       "1  1kJygfS4eoVziBBI93MSYp                                       Acoustic   \n",
       "2  6lynns69p4zTCRxmmiSY1x                  Here Comes the Sun - Acoustic   \n",
       "3  1RC9slv335IfLce5vt9KTW                                    Acoustic #3   \n",
       "4  5o9L8xBuILoVjLECSBi7Vo  My Love Mine All Mine - Acoustic Instrumental   \n",
       "\n",
       "      genre                        artists  \\\n",
       "0  acoustic                  Billy Raffoul   \n",
       "1  acoustic                  Billy Raffoul   \n",
       "2  acoustic  Molly Hocking, Bailey Rushlow   \n",
       "3  acoustic              The Goo Goo Dolls   \n",
       "4  acoustic  Guus Dielissen, Casper Esmann   \n",
       "\n",
       "                                           album  popularity  duration_ms  \\\n",
       "0                                           1975          58       172199   \n",
       "1                        A Few More Hours at YYZ          57       172202   \n",
       "2                  Here Comes the Sun (Acoustic)          42       144786   \n",
       "3                              Dizzy up the Girl          46       116573   \n",
       "4  My Love Mine All Mine (Acoustic Instrumental)          33       133922   \n",
       "\n",
       "   explicit  \n",
       "0     False  \n",
       "1     False  \n",
       "2     False  \n",
       "3     False  \n",
       "4     False  "
      ]
     },
     "execution_count": 36,
     "metadata": {},
     "output_type": "execute_result"
    }
   ],
   "source": [
    "df_spotify = pd.read_csv('spotify_tracks.csv')\n",
    "df_spotify.head()"
   ]
  },
  {
   "cell_type": "markdown",
   "id": "0831b79e",
   "metadata": {},
   "source": [
    "### Data Overview:"
   ]
  },
  {
   "cell_type": "code",
   "execution_count": 37,
   "id": "e7b69f95",
   "metadata": {
    "scrolled": true
   },
   "outputs": [
    {
     "name": "stdout",
     "output_type": "stream",
     "text": [
      "<class 'pandas.core.frame.DataFrame'>\n",
      "RangeIndex: 6300 entries, 0 to 6299\n",
      "Data columns (total 8 columns):\n",
      " #   Column       Non-Null Count  Dtype \n",
      "---  ------       --------------  ----- \n",
      " 0   id           6300 non-null   object\n",
      " 1   name         6300 non-null   object\n",
      " 2   genre        6300 non-null   object\n",
      " 3   artists      6300 non-null   object\n",
      " 4   album        6300 non-null   object\n",
      " 5   popularity   6300 non-null   int64 \n",
      " 6   duration_ms  6300 non-null   int64 \n",
      " 7   explicit     6300 non-null   bool  \n",
      "dtypes: bool(1), int64(2), object(5)\n",
      "memory usage: 350.8+ KB\n"
     ]
    }
   ],
   "source": [
    "df_spotify.info()"
   ]
  },
  {
   "cell_type": "markdown",
   "id": "18ac3fef",
   "metadata": {},
   "source": [
    "Here, we can see that the 'duration_ms', despite being milliseconds is of int64 type. So let us convert to the hh:mm:ss format."
   ]
  },
  {
   "cell_type": "code",
   "execution_count": 38,
   "id": "b1695842",
   "metadata": {},
   "outputs": [],
   "source": [
    "def ms_to_hhmmss(ms):\n",
    "    seconds = ms // 1000\n",
    "    minutes = seconds // 60\n",
    "    hours = minutes // 60\n",
    "    minutes = minutes % 60\n",
    "    seconds = seconds % 60\n",
    "    return f\"{int(hours):02d}:{int(minutes):02d}:{int(seconds):02d}\"\n",
    "\n",
    "# Apply the function to the duration_ms column\n",
    "df_spotify['duration_hhmmss'] = df_spotify['duration_ms'].apply(ms_to_hhmmss)"
   ]
  },
  {
   "cell_type": "code",
   "execution_count": 39,
   "id": "e95a11fd",
   "metadata": {},
   "outputs": [
    {
     "name": "stdout",
     "output_type": "stream",
     "text": [
      "<class 'pandas.core.frame.DataFrame'>\n",
      "RangeIndex: 6300 entries, 0 to 6299\n",
      "Data columns (total 9 columns):\n",
      " #   Column           Non-Null Count  Dtype \n",
      "---  ------           --------------  ----- \n",
      " 0   id               6300 non-null   object\n",
      " 1   name             6300 non-null   object\n",
      " 2   genre            6300 non-null   object\n",
      " 3   artists          6300 non-null   object\n",
      " 4   album            6300 non-null   object\n",
      " 5   popularity       6300 non-null   int64 \n",
      " 6   duration_ms      6300 non-null   int64 \n",
      " 7   explicit         6300 non-null   bool  \n",
      " 8   duration_hhmmss  6300 non-null   object\n",
      "dtypes: bool(1), int64(2), object(6)\n",
      "memory usage: 400.0+ KB\n"
     ]
    }
   ],
   "source": [
    "df_spotify.info()"
   ]
  },
  {
   "cell_type": "markdown",
   "id": "8b9b8e51",
   "metadata": {},
   "source": [
    "Now, we see that the duration_ms has been converted to duration_hhmmss."
   ]
  },
  {
   "cell_type": "code",
   "execution_count": 40,
   "id": "19badf98",
   "metadata": {},
   "outputs": [],
   "source": [
    "df_spotify['duration_hhmmss'] = pd.to_timedelta(df_spotify['duration_hhmmss'])"
   ]
  },
  {
   "cell_type": "code",
   "execution_count": 42,
   "id": "64307e12",
   "metadata": {},
   "outputs": [
    {
     "data": {
      "text/plain": [
       "0   0 days 00:02:52\n",
       "1   0 days 00:02:52\n",
       "2   0 days 00:02:24\n",
       "3   0 days 00:01:56\n",
       "4   0 days 00:02:13\n",
       "Name: duration_hhmmss, dtype: timedelta64[ns]"
      ]
     },
     "execution_count": 42,
     "metadata": {},
     "output_type": "execute_result"
    }
   ],
   "source": [
    "df_spotify['duration_hhmmss'].head()"
   ]
  },
  {
   "cell_type": "code",
   "execution_count": 43,
   "id": "954d9b9a",
   "metadata": {},
   "outputs": [
    {
     "data": {
      "text/plain": [
       "Index(['id', 'name', 'genre', 'artists', 'album', 'popularity', 'duration_ms',\n",
       "       'explicit', 'duration_hhmmss'],\n",
       "      dtype='object')"
      ]
     },
     "execution_count": 43,
     "metadata": {},
     "output_type": "execute_result"
    }
   ],
   "source": [
    "df_spotify.columns"
   ]
  },
  {
   "cell_type": "markdown",
   "id": "70480630",
   "metadata": {},
   "source": [
    "Now, we have our duration in terms of hh:mm:ss format."
   ]
  },
  {
   "cell_type": "markdown",
   "id": "500e7fcf",
   "metadata": {},
   "source": [
    "1. Data Overview\n",
    "Summary Statistics: Calculate summary statistics such as mean, median, mode, standard deviation, and range for numerical columns like popularity and duration_ms.\n",
    "Data Types: Verify the data types of each column and ensure they are appropriate (e.g., popularity and duration_ms should be integers).\n",
    "2. Data Cleaning\n",
    "Missing Values: Check for any missing values in the dataset and decide how to handle them (e.g., remove rows, fill with a placeholder).\n",
    "Duplicates: Identify and handle duplicate records if any.\n",
    "3. Data Visualization\n",
    "Distribution Plots: Plot histograms or box plots to visualize the distribution of popularity and duration_ms.\n",
    "Bar Plots: Create bar plots to show the count of songs per genre or per artist.\n",
    "Scatter Plots: Visualize the relationship between popularity and duration_ms.\n",
    "4. Categorical Analysis\n",
    "Unique Values: Count the number of unique values in categorical columns such as genre, artists, and album.\n",
    "Frequency Distribution: Create frequency distributions for categorical variables to understand their occurrences.\n",
    "5. Correlation Analysis\n",
    "Correlation Matrix: Compute the correlation matrix for numerical columns to identify any potential relationships.\n",
    "Heatmaps: Use heatmaps to visualize the correlation matrix.\n",
    "6. Insights and Patterns\n",
    "Popular Genres and Artists: Identify the most popular genres and artists based on popularity.\n",
    "Duration Analysis: Analyze the average duration of songs in different genres or by different artists.\n",
    "Explicit Content: Examine the proportion of explicit content in the dataset.\n",
    "\n",
    "Univariate Analysis\n",
    "Distribution of Popularity:\n",
    "Question: What is the distribution of the popularity of the songs?\n",
    "Answer: Create a histogram or a box plot to visualize the distribution of the popularity column.\n",
    "\n",
    "Average Duration of Songs:\n",
    "Question: What is the average duration of the songs in the dataset?\n",
    "Answer: Calculate the mean of the duration_ms column.\n",
    "\n",
    "Explicit Content Count:\n",
    "Question: How many songs are explicit versus non-explicit?\n",
    "Answer: Use a bar chart or count plot to show the counts of explicit values (True/False).\n",
    "\n",
    "Bivariate Analysis\n",
    "Popularity vs Duration:\n",
    "Question: Is there a relationship between the popularity of a song and its duration?\n",
    "Answer: Create a scatter plot with popularity on the y-axis and duration_ms on the x-axis. Calculate the correlation coefficient.\n",
    "\n",
    "Genre vs Popularity:\n",
    "Question: How does the popularity vary across different genres?\n",
    "Answer: Use a box plot to show the distribution of popularity for each genre.\n",
    "\n",
    "Artists vs Popularity:\n",
    "Question: Which artists have the highest average popularity?\n",
    "Answer: Group the data by artists and calculate the mean popularity. Then, create a bar chart to display the average popularity of the top artists."
   ]
  },
  {
   "cell_type": "markdown",
   "id": "914fe281",
   "metadata": {},
   "source": [
    "## Univariate Analysis\n",
    "\n",
    "### Now, we will analyse each variable one-by-one."
   ]
  },
  {
   "cell_type": "code",
   "execution_count": 45,
   "id": "99f5c1a4",
   "metadata": {},
   "outputs": [
    {
     "name": "stdout",
     "output_type": "stream",
     "text": [
      "<class 'pandas.core.frame.DataFrame'>\n",
      "RangeIndex: 6300 entries, 0 to 6299\n",
      "Data columns (total 9 columns):\n",
      " #   Column           Non-Null Count  Dtype          \n",
      "---  ------           --------------  -----          \n",
      " 0   id               6300 non-null   object         \n",
      " 1   name             6300 non-null   object         \n",
      " 2   genre            6300 non-null   object         \n",
      " 3   artists          6300 non-null   object         \n",
      " 4   album            6300 non-null   object         \n",
      " 5   popularity       6300 non-null   int64          \n",
      " 6   duration_ms      6300 non-null   int64          \n",
      " 7   explicit         6300 non-null   bool           \n",
      " 8   duration_hhmmss  6300 non-null   timedelta64[ns]\n",
      "dtypes: bool(1), int64(2), object(5), timedelta64[ns](1)\n",
      "memory usage: 400.0+ KB\n"
     ]
    }
   ],
   "source": [
    "df_spotify.info()"
   ]
  },
  {
   "cell_type": "markdown",
   "id": "60704974",
   "metadata": {},
   "source": [
    "Here, ID and name are not important for analysis so we will ignore these columns."
   ]
  },
  {
   "cell_type": "markdown",
   "id": "e84107d2",
   "metadata": {},
   "source": [
    "#### 1. Genre"
   ]
  },
  {
   "cell_type": "code",
   "execution_count": 46,
   "id": "18908f6a",
   "metadata": {},
   "outputs": [
    {
     "data": {
      "text/plain": [
       "genre\n",
       "acoustic             50\n",
       "new-age              50\n",
       "punk                 50\n",
       "psych-rock           50\n",
       "progressive-house    50\n",
       "power-pop            50\n",
       "post-dubstep         50\n",
       "pop-film             50\n",
       "pop                  50\n",
       "piano                50\n",
       "philippines-opm      50\n",
       "party                50\n",
       "pagode               50\n",
       "opera                50\n",
       "new-release          50\n",
       "mpb                  50\n",
       "r-n-b                50\n",
       "movies               50\n",
       "minimal-techno       50\n",
       "metalcore            50\n",
       "metal-misc           50\n",
       "metal                50\n",
       "mandopop             50\n",
       "malay                50\n",
       "latino               50\n",
       "latin                50\n",
       "kids                 50\n",
       "k-pop                50\n",
       "jazz                 50\n",
       "j-rock               50\n",
       "punk-rock            50\n",
       "rainy-day            50\n",
       "afrobeat             50\n",
       "songwriter           50\n",
       "work-out             50\n",
       "turkish              50\n",
       "trip-hop             50\n",
       "trance               50\n",
       "techno               50\n",
       "tango                50\n",
       "synth-pop            50\n",
       "swedish              50\n",
       "summer               50\n",
       "study                50\n",
       "spanish              50\n",
       "soundtracks          50\n",
       "soul                 50\n",
       "sleep                50\n",
       "reggae               50\n",
       "ska                  50\n",
       "singer-songwriter    50\n",
       "show-tunes           50\n",
       "sertanejo            50\n",
       "samba                50\n",
       "salsa                50\n",
       "sad                  50\n",
       "romance              50\n",
       "rockabilly           50\n",
       "rock-n-roll          50\n",
       "rock                 50\n",
       "road-trip            50\n",
       "reggaeton            50\n",
       "j-pop                50\n",
       "j-idol               50\n",
       "j-dance              50\n",
       "chill                50\n",
       "dub                  50\n",
       "drum-and-bass        50\n",
       "disney               50\n",
       "disco                50\n",
       "detroit-techno       50\n",
       "deep-house           50\n",
       "death-metal          50\n",
       "dancehall            50\n",
       "dance                50\n",
       "country              50\n",
       "comedy               50\n",
       "club                 50\n",
       "classical            50\n",
       "children             50\n",
       "iranian              50\n",
       "chicago-house        50\n",
       "cantopop             50\n",
       "british              50\n",
       "breakbeat            50\n",
       "brazil               50\n",
       "bossanova            50\n",
       "blues                50\n",
       "bluegrass            50\n",
       "black-metal          50\n",
       "anime                50\n",
       "ambient              50\n",
       "alternative          50\n",
       "alt-rock             50\n",
       "dubstep              50\n",
       "edm                  50\n",
       "electro              50\n",
       "electronic           50\n",
       "industrial           50\n",
       "indie-pop            50\n",
       "indie                50\n",
       "indian               50\n",
       "idm                  50\n",
       "house                50\n",
       "honky-tonk           50\n",
       "holidays             50\n",
       "hip-hop              50\n",
       "heavy-metal          50\n",
       "hardstyle            50\n",
       "hardcore             50\n",
       "hard-rock            50\n",
       "happy                50\n",
       "guitar               50\n",
       "grunge               50\n",
       "groove               50\n",
       "grindcore            50\n",
       "goth                 50\n",
       "gospel               50\n",
       "german               50\n",
       "garage               50\n",
       "funk                 50\n",
       "french               50\n",
       "forro                50\n",
       "folk                 50\n",
       "emo                  50\n",
       "world-music          50\n",
       "Name: count, dtype: int64"
      ]
     },
     "execution_count": 46,
     "metadata": {},
     "output_type": "execute_result"
    }
   ],
   "source": [
    "df_spotify['genre'].value_counts()"
   ]
  },
  {
   "cell_type": "code",
   "execution_count": null,
   "id": "1e47c93f",
   "metadata": {},
   "outputs": [],
   "source": []
  },
  {
   "cell_type": "code",
   "execution_count": null,
   "id": "c046a442",
   "metadata": {},
   "outputs": [],
   "source": []
  },
  {
   "cell_type": "code",
   "execution_count": null,
   "id": "a64bf302",
   "metadata": {},
   "outputs": [],
   "source": []
  }
 ],
 "metadata": {
  "kernelspec": {
   "display_name": "Python 3 (ipykernel)",
   "language": "python",
   "name": "python3"
  },
  "language_info": {
   "codemirror_mode": {
    "name": "ipython",
    "version": 3
   },
   "file_extension": ".py",
   "mimetype": "text/x-python",
   "name": "python",
   "nbconvert_exporter": "python",
   "pygments_lexer": "ipython3",
   "version": "3.11.7"
  }
 },
 "nbformat": 4,
 "nbformat_minor": 5
}
